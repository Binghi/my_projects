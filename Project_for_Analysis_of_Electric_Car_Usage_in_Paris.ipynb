{
  "nbformat": 4,
  "nbformat_minor": 0,
  "metadata": {
    "colab": {
      "name": "Project for Analysis of Electric Car Usage in Paris.ipynb",
      "provenance": [],
      "collapsed_sections": [],
      "authorship_tag": "ABX9TyMLiJirOoaL4rzzZlUUkEDc",
      "include_colab_link": true
    },
    "kernelspec": {
      "name": "python3",
      "display_name": "Python 3"
    }
  },
  "cells": [
    {
      "cell_type": "markdown",
      "metadata": {
        "id": "view-in-github",
        "colab_type": "text"
      },
      "source": [
        "<a href=\"https://colab.research.google.com/github/Binghi/my_projects/blob/master/Project_for_Analysis_of_Electric_Car_Usage_in_Paris.ipynb\" target=\"_parent\"><img src=\"https://colab.research.google.com/assets/colab-badge.svg\" alt=\"Open In Colab\"/></a>"
      ]
    },
    {
      "cell_type": "markdown",
      "metadata": {
        "id": "0hi-BqSYuYQC",
        "colab_type": "text"
      },
      "source": [
        "# [README.md](https://github.com/Binghi/my_projects/blob/master/README.md)\n",
        "# Project for Analysis of Electric Car Usage in Paris\n",
        "# Data Understanding"
      ]
    },
    {
      "cell_type": "code",
      "metadata": {
        "id": "HYyBL24DuuLe",
        "colab_type": "code",
        "colab": {}
      },
      "source": [
        "# Importing Pandas Library:\n",
        "import pandas as pd\n",
        "#\n",
        "# Importing Numpy Library:\n",
        "import numpy as np"
      ],
      "execution_count": 0,
      "outputs": []
    },
    {
      "cell_type": "code",
      "metadata": {
        "id": "A86sUZN6HU2B",
        "colab_type": "code",
        "colab": {}
      },
      "source": [
        "# Importing the electric car usage dataset(Autolib_dataset.csv) \n",
        "# onto the analysis environment:\n",
        "Autolib_dataset = pd.read_csv('Autolib_dataset.csv')"
      ],
      "execution_count": 0,
      "outputs": []
    },
    {
      "cell_type": "code",
      "metadata": {
        "id": "oDhohjDIHVE6",
        "colab_type": "code",
        "outputId": "6868c9e9-4d6a-4283-b292-463af3a63ddc",
        "colab": {
          "base_uri": "https://localhost:8080/",
          "height": 799
        }
      },
      "source": [
        "# Prviewing the Autolib_dataset to undertand the dataset:\n",
        "print((Autolib_dataset).head(10))\n",
        "print(Autolib_dataset.info())"
      ],
      "execution_count": 3,
      "outputs": [
        {
          "output_type": "stream",
          "text": [
            "                              Address  Cars  Bluecar counter  ...  day  hour  minute\n",
            "0                 2 Avenue de Suffren     0                0  ...    8    11      43\n",
            "1           145 Rue Raymond Losserand     6                6  ...    6     7      24\n",
            "2    2 Avenue John Fitzgerald Kennedy     3                3  ...    3    20      14\n",
            "3              51 Rue EugÃ¨ne OudinÃ©     3                3  ...    4     4      37\n",
            "4  6 avenue de la Porte de Champerret     3                3  ...    8    17      23\n",
            "5                8 Boulevard Voltaire     0                0  ...    6     7       2\n",
            "6                      37 rue Leblanc     0                0  ...    8    18      20\n",
            "7         17 Rue des Luaps ProlongÃ©e     3                3  ...    4    22      13\n",
            "8               34 avenue Jean Moulin     1                1  ...    2    22      58\n",
            "9        41 boulevard de Rochechouart     6                6  ...    4    15       2\n",
            "\n",
            "[10 rows x 25 columns]\n",
            "<class 'pandas.core.frame.DataFrame'>\n",
            "RangeIndex: 5000 entries, 0 to 4999\n",
            "Data columns (total 25 columns):\n",
            " #   Column               Non-Null Count  Dtype \n",
            "---  ------               --------------  ----- \n",
            " 0   Address              5000 non-null   object\n",
            " 1   Cars                 5000 non-null   int64 \n",
            " 2   Bluecar counter      5000 non-null   int64 \n",
            " 3   Utilib counter       5000 non-null   int64 \n",
            " 4   Utilib 1.4 counter   5000 non-null   int64 \n",
            " 5   Charge Slots         5000 non-null   int64 \n",
            " 6   Charging Status      5000 non-null   object\n",
            " 7   City                 5000 non-null   object\n",
            " 8   Displayed comment    111 non-null    object\n",
            " 9   ID                   5000 non-null   object\n",
            " 10  Kind                 5000 non-null   object\n",
            " 11  Geo point            5000 non-null   object\n",
            " 12  Postal code          5000 non-null   int64 \n",
            " 13  Public name          5000 non-null   object\n",
            " 14  Rental status        5000 non-null   object\n",
            " 15  Scheduled at         47 non-null     object\n",
            " 16  Slots                5000 non-null   int64 \n",
            " 17  Station type         5000 non-null   object\n",
            " 18  Status               5000 non-null   object\n",
            " 19  Subscription status  5000 non-null   object\n",
            " 20  year                 5000 non-null   int64 \n",
            " 21  month                5000 non-null   int64 \n",
            " 22  day                  5000 non-null   int64 \n",
            " 23  hour                 5000 non-null   int64 \n",
            " 24  minute               5000 non-null   int64 \n",
            "dtypes: int64(12), object(13)\n",
            "memory usage: 976.7+ KB\n",
            "None\n"
          ],
          "name": "stdout"
        }
      ]
    },
    {
      "cell_type": "code",
      "metadata": {
        "id": "XzIWcu2PHVNf",
        "colab_type": "code",
        "outputId": "85637214-7d5f-4c30-a84d-60c8ac9bde08",
        "colab": {
          "base_uri": "https://localhost:8080/",
          "height": 136
        }
      },
      "source": [
        "# Previewing all the columns:\n",
        "All_collumns = Autolib_dataset.columns\n",
        "print(All_collumns)"
      ],
      "execution_count": 4,
      "outputs": [
        {
          "output_type": "stream",
          "text": [
            "Index(['Address', 'Cars', 'Bluecar counter', 'Utilib counter',\n",
            "       'Utilib 1.4 counter', 'Charge Slots', 'Charging Status', 'City',\n",
            "       'Displayed comment', 'ID', 'Kind', 'Geo point', 'Postal code',\n",
            "       'Public name', 'Rental status', 'Scheduled at', 'Slots', 'Station type',\n",
            "       'Status', 'Subscription status', 'year', 'month', 'day', 'hour',\n",
            "       'minute'],\n",
            "      dtype='object')\n"
          ],
          "name": "stdout"
        }
      ]
    },
    {
      "cell_type": "code",
      "metadata": {
        "id": "JnvveZ7JZNbH",
        "colab_type": "code",
        "outputId": "bd65e084-e1b2-4371-c2d2-0a7488a7d60b",
        "colab": {
          "base_uri": "https://localhost:8080/",
          "height": 459
        }
      },
      "source": [
        "# Checking the number of missing values in each column:\n",
        "#\n",
        "Autolib_dataset.isnull().sum()"
      ],
      "execution_count": 5,
      "outputs": [
        {
          "output_type": "execute_result",
          "data": {
            "text/plain": [
              "Address                   0\n",
              "Cars                      0\n",
              "Bluecar counter           0\n",
              "Utilib counter            0\n",
              "Utilib 1.4 counter        0\n",
              "Charge Slots              0\n",
              "Charging Status           0\n",
              "City                      0\n",
              "Displayed comment      4889\n",
              "ID                        0\n",
              "Kind                      0\n",
              "Geo point                 0\n",
              "Postal code               0\n",
              "Public name               0\n",
              "Rental status             0\n",
              "Scheduled at           4953\n",
              "Slots                     0\n",
              "Station type              0\n",
              "Status                    0\n",
              "Subscription status       0\n",
              "year                      0\n",
              "month                     0\n",
              "day                       0\n",
              "hour                      0\n",
              "minute                    0\n",
              "dtype: int64"
            ]
          },
          "metadata": {
            "tags": []
          },
          "execution_count": 5
        }
      ]
    },
    {
      "cell_type": "markdown",
      "metadata": {
        "id": "BWa0twWvuEX3",
        "colab_type": "text"
      },
      "source": [
        "# Data Preparation"
      ]
    },
    {
      "cell_type": "code",
      "metadata": {
        "id": "K3G_5BunHVSz",
        "colab_type": "code",
        "outputId": "f611721e-9f60-4e81-a5a3-324cee558e48",
        "colab": {
          "base_uri": "https://localhost:8080/",
          "height": 142
        }
      },
      "source": [
        "# Cleaning the Autolib dataset by dropping columns of data that will not be needed for this analysis:\n",
        "# Also dropping columns with a lot of null value but will not be needed for the analysis:\n",
        "Autolib = Autolib_dataset.drop(['Address', 'Cars', 'Utilib counter','Utilib 1.4 counter', \n",
        "                                'Charge Slots', 'Charging Status','Displayed comment','ID', \n",
        "                                 'Geo point', 'Postal code', 'Public name', 'Scheduled at',\n",
        "                                'Station type'], axis=1)\n",
        "Autolib.head(3)\n"
      ],
      "execution_count": 6,
      "outputs": [
        {
          "output_type": "execute_result",
          "data": {
            "text/html": [
              "<div>\n",
              "<style scoped>\n",
              "    .dataframe tbody tr th:only-of-type {\n",
              "        vertical-align: middle;\n",
              "    }\n",
              "\n",
              "    .dataframe tbody tr th {\n",
              "        vertical-align: top;\n",
              "    }\n",
              "\n",
              "    .dataframe thead th {\n",
              "        text-align: right;\n",
              "    }\n",
              "</style>\n",
              "<table border=\"1\" class=\"dataframe\">\n",
              "  <thead>\n",
              "    <tr style=\"text-align: right;\">\n",
              "      <th></th>\n",
              "      <th>Bluecar counter</th>\n",
              "      <th>City</th>\n",
              "      <th>Kind</th>\n",
              "      <th>Rental status</th>\n",
              "      <th>Slots</th>\n",
              "      <th>Status</th>\n",
              "      <th>Subscription status</th>\n",
              "      <th>year</th>\n",
              "      <th>month</th>\n",
              "      <th>day</th>\n",
              "      <th>hour</th>\n",
              "      <th>minute</th>\n",
              "    </tr>\n",
              "  </thead>\n",
              "  <tbody>\n",
              "    <tr>\n",
              "      <th>0</th>\n",
              "      <td>0</td>\n",
              "      <td>Paris</td>\n",
              "      <td>STATION</td>\n",
              "      <td>operational</td>\n",
              "      <td>2</td>\n",
              "      <td>ok</td>\n",
              "      <td>nonexistent</td>\n",
              "      <td>2018</td>\n",
              "      <td>4</td>\n",
              "      <td>8</td>\n",
              "      <td>11</td>\n",
              "      <td>43</td>\n",
              "    </tr>\n",
              "    <tr>\n",
              "      <th>1</th>\n",
              "      <td>6</td>\n",
              "      <td>Paris</td>\n",
              "      <td>STATION</td>\n",
              "      <td>operational</td>\n",
              "      <td>0</td>\n",
              "      <td>ok</td>\n",
              "      <td>nonexistent</td>\n",
              "      <td>2018</td>\n",
              "      <td>4</td>\n",
              "      <td>6</td>\n",
              "      <td>7</td>\n",
              "      <td>24</td>\n",
              "    </tr>\n",
              "    <tr>\n",
              "      <th>2</th>\n",
              "      <td>3</td>\n",
              "      <td>Le Bourget</td>\n",
              "      <td>STATION</td>\n",
              "      <td>operational</td>\n",
              "      <td>1</td>\n",
              "      <td>ok</td>\n",
              "      <td>nonexistent</td>\n",
              "      <td>2018</td>\n",
              "      <td>4</td>\n",
              "      <td>3</td>\n",
              "      <td>20</td>\n",
              "      <td>14</td>\n",
              "    </tr>\n",
              "  </tbody>\n",
              "</table>\n",
              "</div>"
            ],
            "text/plain": [
              "   Bluecar counter        City     Kind Rental status  ...  month day hour  minute\n",
              "0                0       Paris  STATION   operational  ...      4   8   11      43\n",
              "1                6       Paris  STATION   operational  ...      4   6    7      24\n",
              "2                3  Le Bourget  STATION   operational  ...      4   3   20      14\n",
              "\n",
              "[3 rows x 12 columns]"
            ]
          },
          "metadata": {
            "tags": []
          },
          "execution_count": 6
        }
      ]
    },
    {
      "cell_type": "code",
      "metadata": {
        "id": "qGmpbgStHVYe",
        "colab_type": "code",
        "outputId": "27a77ccc-d026-49c1-bb21-2a6b3def30c4",
        "colab": {
          "base_uri": "https://localhost:8080/",
          "height": 221
        }
      },
      "source": [
        "# Identifying if there are duplicates from the cleaned Autolib dataset for possible removal:\n",
        "duplicate_Autolib = Autolib.duplicated()\n",
        "print(duplicate_Autolib)\n",
        "#\n",
        "# this returns that there are no duplicates in the dataset."
      ],
      "execution_count": 7,
      "outputs": [
        {
          "output_type": "stream",
          "text": [
            "0       False\n",
            "1       False\n",
            "2       False\n",
            "3       False\n",
            "4       False\n",
            "        ...  \n",
            "4995    False\n",
            "4996    False\n",
            "4997    False\n",
            "4998    False\n",
            "4999    False\n",
            "Length: 5000, dtype: bool\n"
          ],
          "name": "stdout"
        }
      ]
    },
    {
      "cell_type": "code",
      "metadata": {
        "id": "7V1fRQaCHVcz",
        "colab_type": "code",
        "outputId": "088dc06e-8a10-4222-ba42-75eb0c578278",
        "colab": {
          "base_uri": "https://localhost:8080/",
          "height": 142
        }
      },
      "source": [
        "# formatting the columns heads from Autolib to be uniform to make data analysis easier:\n",
        "Autolib.columns = Autolib.columns.str.strip().str.lower().str.replace(' ', '_').str.replace('(', '').str.replace(')', '')\n",
        "Autolib.head(3)"
      ],
      "execution_count": 8,
      "outputs": [
        {
          "output_type": "execute_result",
          "data": {
            "text/html": [
              "<div>\n",
              "<style scoped>\n",
              "    .dataframe tbody tr th:only-of-type {\n",
              "        vertical-align: middle;\n",
              "    }\n",
              "\n",
              "    .dataframe tbody tr th {\n",
              "        vertical-align: top;\n",
              "    }\n",
              "\n",
              "    .dataframe thead th {\n",
              "        text-align: right;\n",
              "    }\n",
              "</style>\n",
              "<table border=\"1\" class=\"dataframe\">\n",
              "  <thead>\n",
              "    <tr style=\"text-align: right;\">\n",
              "      <th></th>\n",
              "      <th>bluecar_counter</th>\n",
              "      <th>city</th>\n",
              "      <th>kind</th>\n",
              "      <th>rental_status</th>\n",
              "      <th>slots</th>\n",
              "      <th>status</th>\n",
              "      <th>subscription_status</th>\n",
              "      <th>year</th>\n",
              "      <th>month</th>\n",
              "      <th>day</th>\n",
              "      <th>hour</th>\n",
              "      <th>minute</th>\n",
              "    </tr>\n",
              "  </thead>\n",
              "  <tbody>\n",
              "    <tr>\n",
              "      <th>0</th>\n",
              "      <td>0</td>\n",
              "      <td>Paris</td>\n",
              "      <td>STATION</td>\n",
              "      <td>operational</td>\n",
              "      <td>2</td>\n",
              "      <td>ok</td>\n",
              "      <td>nonexistent</td>\n",
              "      <td>2018</td>\n",
              "      <td>4</td>\n",
              "      <td>8</td>\n",
              "      <td>11</td>\n",
              "      <td>43</td>\n",
              "    </tr>\n",
              "    <tr>\n",
              "      <th>1</th>\n",
              "      <td>6</td>\n",
              "      <td>Paris</td>\n",
              "      <td>STATION</td>\n",
              "      <td>operational</td>\n",
              "      <td>0</td>\n",
              "      <td>ok</td>\n",
              "      <td>nonexistent</td>\n",
              "      <td>2018</td>\n",
              "      <td>4</td>\n",
              "      <td>6</td>\n",
              "      <td>7</td>\n",
              "      <td>24</td>\n",
              "    </tr>\n",
              "    <tr>\n",
              "      <th>2</th>\n",
              "      <td>3</td>\n",
              "      <td>Le Bourget</td>\n",
              "      <td>STATION</td>\n",
              "      <td>operational</td>\n",
              "      <td>1</td>\n",
              "      <td>ok</td>\n",
              "      <td>nonexistent</td>\n",
              "      <td>2018</td>\n",
              "      <td>4</td>\n",
              "      <td>3</td>\n",
              "      <td>20</td>\n",
              "      <td>14</td>\n",
              "    </tr>\n",
              "  </tbody>\n",
              "</table>\n",
              "</div>"
            ],
            "text/plain": [
              "   bluecar_counter        city     kind rental_status  ...  month day hour  minute\n",
              "0                0       Paris  STATION   operational  ...      4   8   11      43\n",
              "1                6       Paris  STATION   operational  ...      4   6    7      24\n",
              "2                3  Le Bourget  STATION   operational  ...      4   3   20      14\n",
              "\n",
              "[3 rows x 12 columns]"
            ]
          },
          "metadata": {
            "tags": []
          },
          "execution_count": 8
        }
      ]
    },
    {
      "cell_type": "code",
      "metadata": {
        "id": "ebD8NtfIfKLv",
        "colab_type": "code",
        "outputId": "ab03a84b-4283-4edb-f469-d265fd877cc3",
        "colab": {
          "base_uri": "https://localhost:8080/",
          "height": 357
        }
      },
      "source": [
        "# Previewing the dataset to see the column data types:\n",
        "print(Autolib.info())"
      ],
      "execution_count": 10,
      "outputs": [
        {
          "output_type": "stream",
          "text": [
            "<class 'pandas.core.frame.DataFrame'>\n",
            "RangeIndex: 5000 entries, 0 to 4999\n",
            "Data columns (total 12 columns):\n",
            " #   Column               Non-Null Count  Dtype \n",
            "---  ------               --------------  ----- \n",
            " 0   bluecar_counter      5000 non-null   int64 \n",
            " 1   city                 5000 non-null   object\n",
            " 2   kind                 5000 non-null   object\n",
            " 3   rental_status        5000 non-null   object\n",
            " 4   slots                5000 non-null   int64 \n",
            " 5   status               5000 non-null   object\n",
            " 6   subscription_status  5000 non-null   object\n",
            " 7   year                 5000 non-null   int64 \n",
            " 8   month                5000 non-null   int64 \n",
            " 9   day                  5000 non-null   int64 \n",
            " 10  hour                 5000 non-null   int64 \n",
            " 11  minute               5000 non-null   int64 \n",
            "dtypes: int64(7), object(5)\n",
            "memory usage: 468.9+ KB\n",
            "None\n"
          ],
          "name": "stdout"
        }
      ]
    },
    {
      "cell_type": "code",
      "metadata": {
        "id": "cRqaokLIOGw7",
        "colab_type": "code",
        "outputId": "feef1cb2-0810-44aa-9b91-b256f1282e5a",
        "colab": {
          "base_uri": "https://localhost:8080/",
          "height": 476
        }
      },
      "source": [
        "# Converting Autolib columns in int('year','month','day, 'hour','minute') to str in \n",
        "# proparation for joining the columns:\n",
        "#\n",
        "autolib_convert = {'year': str, \n",
        "                'month': str,\n",
        "                'day': str,\n",
        "                'hour': str,\n",
        "                'minute': str\n",
        "               } \n",
        "  \n",
        "Autolib = Autolib.astype(autolib_convert) \n",
        "print(Autolib.dtypes) \n",
        "#\n",
        "# now joining ['year','month','day] columns into 'date' columns:\n",
        "#\n",
        "Autolib['date'] = Autolib[['year', 'month', 'day']].apply(lambda x: '-'.join(x), axis = 1)\n",
        "#\n",
        "# and joining ['hour','minute'] columns into 'time' columns:\n",
        "#\n",
        "Autolib['time'] = Autolib[['hour', 'minute']].apply(lambda x: ':'.join(x), axis = 1)\n",
        "#\n",
        "# now joining the newly create 'date' and 'time' columns into one \n",
        "Autolib['date_time'] = Autolib[['date', 'time']].apply(lambda x: ' '.join(x), axis = 1)\n",
        "# Previewing to see if new joined columns of 'date' and 'time' have been created:\n",
        "print(Autolib)"
      ],
      "execution_count": 11,
      "outputs": [
        {
          "output_type": "stream",
          "text": [
            "bluecar_counter         int64\n",
            "city                   object\n",
            "kind                   object\n",
            "rental_status          object\n",
            "slots                   int64\n",
            "status                 object\n",
            "subscription_status    object\n",
            "year                   object\n",
            "month                  object\n",
            "day                    object\n",
            "hour                   object\n",
            "minute                 object\n",
            "dtype: object\n",
            "      bluecar_counter                city  ...   time       date_time\n",
            "0                   0               Paris  ...  11:43  2018-4-8 11:43\n",
            "1                   6               Paris  ...   7:24   2018-4-6 7:24\n",
            "2                   3          Le Bourget  ...  20:14  2018-4-3 20:14\n",
            "3                   3               Paris  ...   4:37   2018-4-4 4:37\n",
            "4                   3               Paris  ...  17:23  2018-4-8 17:23\n",
            "...               ...                 ...  ...    ...             ...\n",
            "4995                2            Colombes  ...  11:26  2018-4-6 11:26\n",
            "4996                4               Paris  ...  16:56  2018-4-4 16:56\n",
            "4997                1               Paris  ...    7:1    2018-4-1 7:1\n",
            "4998                2  Fontenay-Sous-Bois  ...  17:27  2018-4-4 17:27\n",
            "4999                4               Paris  ...   10:2   2018-4-8 10:2\n",
            "\n",
            "[5000 rows x 15 columns]\n"
          ],
          "name": "stdout"
        }
      ]
    },
    {
      "cell_type": "code",
      "metadata": {
        "id": "-7I_4Y8si3ph",
        "colab_type": "code",
        "outputId": "29b28d2e-c6f2-4a31-82e8-05b1c95215af",
        "colab": {
          "base_uri": "https://localhost:8080/",
          "height": 142
        }
      },
      "source": [
        "# Dropping single columns of 'year','month','day, 'hour','minute':\n",
        "#\n",
        "new_autolib = Autolib.drop(['year','month','day', 'hour', 'minute','date','time'], axis = 1)\n",
        "new_autolib.head(3)"
      ],
      "execution_count": 13,
      "outputs": [
        {
          "output_type": "execute_result",
          "data": {
            "text/html": [
              "<div>\n",
              "<style scoped>\n",
              "    .dataframe tbody tr th:only-of-type {\n",
              "        vertical-align: middle;\n",
              "    }\n",
              "\n",
              "    .dataframe tbody tr th {\n",
              "        vertical-align: top;\n",
              "    }\n",
              "\n",
              "    .dataframe thead th {\n",
              "        text-align: right;\n",
              "    }\n",
              "</style>\n",
              "<table border=\"1\" class=\"dataframe\">\n",
              "  <thead>\n",
              "    <tr style=\"text-align: right;\">\n",
              "      <th></th>\n",
              "      <th>bluecar_counter</th>\n",
              "      <th>city</th>\n",
              "      <th>kind</th>\n",
              "      <th>rental_status</th>\n",
              "      <th>slots</th>\n",
              "      <th>status</th>\n",
              "      <th>subscription_status</th>\n",
              "      <th>date_time</th>\n",
              "    </tr>\n",
              "  </thead>\n",
              "  <tbody>\n",
              "    <tr>\n",
              "      <th>0</th>\n",
              "      <td>0</td>\n",
              "      <td>Paris</td>\n",
              "      <td>STATION</td>\n",
              "      <td>operational</td>\n",
              "      <td>2</td>\n",
              "      <td>ok</td>\n",
              "      <td>nonexistent</td>\n",
              "      <td>2018-4-8 11:43</td>\n",
              "    </tr>\n",
              "    <tr>\n",
              "      <th>1</th>\n",
              "      <td>6</td>\n",
              "      <td>Paris</td>\n",
              "      <td>STATION</td>\n",
              "      <td>operational</td>\n",
              "      <td>0</td>\n",
              "      <td>ok</td>\n",
              "      <td>nonexistent</td>\n",
              "      <td>2018-4-6 7:24</td>\n",
              "    </tr>\n",
              "    <tr>\n",
              "      <th>2</th>\n",
              "      <td>3</td>\n",
              "      <td>Le Bourget</td>\n",
              "      <td>STATION</td>\n",
              "      <td>operational</td>\n",
              "      <td>1</td>\n",
              "      <td>ok</td>\n",
              "      <td>nonexistent</td>\n",
              "      <td>2018-4-3 20:14</td>\n",
              "    </tr>\n",
              "  </tbody>\n",
              "</table>\n",
              "</div>"
            ],
            "text/plain": [
              "   bluecar_counter        city  ... subscription_status       date_time\n",
              "0                0       Paris  ...         nonexistent  2018-4-8 11:43\n",
              "1                6       Paris  ...         nonexistent   2018-4-6 7:24\n",
              "2                3  Le Bourget  ...         nonexistent  2018-4-3 20:14\n",
              "\n",
              "[3 rows x 8 columns]"
            ]
          },
          "metadata": {
            "tags": []
          },
          "execution_count": 13
        }
      ]
    },
    {
      "cell_type": "code",
      "metadata": {
        "id": "sc-x_INBpnpM",
        "colab_type": "code",
        "outputId": "fcf62b97-3a60-4578-b389-52d532a623fb",
        "colab": {
          "base_uri": "https://localhost:8080/",
          "height": 142
        }
      },
      "source": [
        "# Dropping rows that do not have 'city' as 'Paris' since focus to meet the objectives is on Paris:\n",
        "#\n",
        "new_autolib.drop(new_autolib[new_autolib['city'] != 'Paris'].index, inplace = True)\n",
        "# Also dropping rows not having 'rental_status' as 'operational' since they wont be relevant for the analysis:\n",
        "#\n",
        "new_autolib.drop(new_autolib[new_autolib['rental_status'] != 'operational'].index, inplace = True)\n",
        "# Dropping rows that do not have 'subscription_status' as 'operational' as they wont be relevant for the analysis:\n",
        "new_autolib.drop(new_autolib[new_autolib['subscription_status'] != 'operational'].index, inplace = True)\n",
        "# Previewing the result:\n",
        "new_autolib.head(3)"
      ],
      "execution_count": 15,
      "outputs": [
        {
          "output_type": "execute_result",
          "data": {
            "text/html": [
              "<div>\n",
              "<style scoped>\n",
              "    .dataframe tbody tr th:only-of-type {\n",
              "        vertical-align: middle;\n",
              "    }\n",
              "\n",
              "    .dataframe tbody tr th {\n",
              "        vertical-align: top;\n",
              "    }\n",
              "\n",
              "    .dataframe thead th {\n",
              "        text-align: right;\n",
              "    }\n",
              "</style>\n",
              "<table border=\"1\" class=\"dataframe\">\n",
              "  <thead>\n",
              "    <tr style=\"text-align: right;\">\n",
              "      <th></th>\n",
              "      <th>bluecar_counter</th>\n",
              "      <th>city</th>\n",
              "      <th>kind</th>\n",
              "      <th>rental_status</th>\n",
              "      <th>slots</th>\n",
              "      <th>status</th>\n",
              "      <th>subscription_status</th>\n",
              "      <th>date_time</th>\n",
              "    </tr>\n",
              "  </thead>\n",
              "  <tbody>\n",
              "    <tr>\n",
              "      <th>20</th>\n",
              "      <td>3</td>\n",
              "      <td>Paris</td>\n",
              "      <td>SPACE</td>\n",
              "      <td>operational</td>\n",
              "      <td>0</td>\n",
              "      <td>ok</td>\n",
              "      <td>operational</td>\n",
              "      <td>2018-4-5 6:16</td>\n",
              "    </tr>\n",
              "    <tr>\n",
              "      <th>79</th>\n",
              "      <td>0</td>\n",
              "      <td>Paris</td>\n",
              "      <td>SPACE</td>\n",
              "      <td>operational</td>\n",
              "      <td>4</td>\n",
              "      <td>ok</td>\n",
              "      <td>operational</td>\n",
              "      <td>2018-4-2 3:38</td>\n",
              "    </tr>\n",
              "    <tr>\n",
              "      <th>85</th>\n",
              "      <td>0</td>\n",
              "      <td>Paris</td>\n",
              "      <td>SPACE</td>\n",
              "      <td>operational</td>\n",
              "      <td>4</td>\n",
              "      <td>ok</td>\n",
              "      <td>operational</td>\n",
              "      <td>2018-4-1 7:55</td>\n",
              "    </tr>\n",
              "  </tbody>\n",
              "</table>\n",
              "</div>"
            ],
            "text/plain": [
              "    bluecar_counter   city   kind  ... status  subscription_status      date_time\n",
              "20                3  Paris  SPACE  ...     ok          operational  2018-4-5 6:16\n",
              "79                0  Paris  SPACE  ...     ok          operational  2018-4-2 3:38\n",
              "85                0  Paris  SPACE  ...     ok          operational  2018-4-1 7:55\n",
              "\n",
              "[3 rows x 8 columns]"
            ]
          },
          "metadata": {
            "tags": []
          },
          "execution_count": 15
        }
      ]
    },
    {
      "cell_type": "code",
      "metadata": {
        "id": "fb5I3Xak46TZ",
        "colab_type": "code",
        "outputId": "f1bb2f6c-37df-4542-879e-9b31a6009dbc",
        "colab": {
          "base_uri": "https://localhost:8080/",
          "height": 289
        }
      },
      "source": [
        "# previewing the resulting data:\n",
        "print(new_autolib.info())"
      ],
      "execution_count": 16,
      "outputs": [
        {
          "output_type": "stream",
          "text": [
            "<class 'pandas.core.frame.DataFrame'>\n",
            "Int64Index: 96 entries, 20 to 4973\n",
            "Data columns (total 8 columns):\n",
            " #   Column               Non-Null Count  Dtype \n",
            "---  ------               --------------  ----- \n",
            " 0   bluecar_counter      96 non-null     int64 \n",
            " 1   city                 96 non-null     object\n",
            " 2   kind                 96 non-null     object\n",
            " 3   rental_status        96 non-null     object\n",
            " 4   slots                96 non-null     int64 \n",
            " 5   status               96 non-null     object\n",
            " 6   subscription_status  96 non-null     object\n",
            " 7   date_time            96 non-null     object\n",
            "dtypes: int64(2), object(6)\n",
            "memory usage: 6.8+ KB\n",
            "None\n"
          ],
          "name": "stdout"
        }
      ]
    },
    {
      "cell_type": "code",
      "metadata": {
        "id": "BCVaRSgm4DA7",
        "colab_type": "code",
        "colab": {}
      },
      "source": [
        "# Changing the date_time column to datetime data type:\n",
        "# \n",
        "new_autolib.date_time = pd.to_datetime(new_autolib.date_time)\n",
        "#####print(new_autolib.info())\n",
        "####new_autolib.head(3)"
      ],
      "execution_count": 0,
      "outputs": []
    },
    {
      "cell_type": "code",
      "metadata": {
        "id": "uyiZ7ERxvZzB",
        "colab_type": "code",
        "colab": {}
      },
      "source": [
        "# Splitting the date_time column to date and time:\n",
        "# \n",
        "new_autolib['date'] = [d.date() for d in new_autolib.date_time]\n",
        "new_autolib['time'] = [d.time() for d in new_autolib.date_time]\n",
        "new_autolib['date'] = pd.to_datetime(new_autolib['date'])\n",
        "new_autolib['time'] = pd.to_datetime(new_autolib['time'], format='%H:%M:%S:%f', errors = 'ignore')\n"
      ],
      "execution_count": 0,
      "outputs": []
    },
    {
      "cell_type": "code",
      "metadata": {
        "id": "-Idyf4t5lh42",
        "colab_type": "code",
        "outputId": "1f1a3037-0b6d-4a1c-981e-ae0c3542b1c2",
        "colab": {
          "base_uri": "https://localhost:8080/",
          "height": 499
        }
      },
      "source": [
        "# Previewing to see if changes have been effected:\n",
        "print(new_autolib.info())\n",
        "new_autolib.head(3)"
      ],
      "execution_count": 20,
      "outputs": [
        {
          "output_type": "stream",
          "text": [
            "<class 'pandas.core.frame.DataFrame'>\n",
            "Int64Index: 96 entries, 20 to 4973\n",
            "Data columns (total 10 columns):\n",
            " #   Column               Non-Null Count  Dtype         \n",
            "---  ------               --------------  -----         \n",
            " 0   bluecar_counter      96 non-null     int64         \n",
            " 1   city                 96 non-null     object        \n",
            " 2   kind                 96 non-null     object        \n",
            " 3   rental_status        96 non-null     object        \n",
            " 4   slots                96 non-null     int64         \n",
            " 5   status               96 non-null     object        \n",
            " 6   subscription_status  96 non-null     object        \n",
            " 7   date_time            96 non-null     datetime64[ns]\n",
            " 8   date                 96 non-null     datetime64[ns]\n",
            " 9   time                 96 non-null     object        \n",
            "dtypes: datetime64[ns](2), int64(2), object(6)\n",
            "memory usage: 8.2+ KB\n",
            "None\n"
          ],
          "name": "stdout"
        },
        {
          "output_type": "execute_result",
          "data": {
            "text/html": [
              "<div>\n",
              "<style scoped>\n",
              "    .dataframe tbody tr th:only-of-type {\n",
              "        vertical-align: middle;\n",
              "    }\n",
              "\n",
              "    .dataframe tbody tr th {\n",
              "        vertical-align: top;\n",
              "    }\n",
              "\n",
              "    .dataframe thead th {\n",
              "        text-align: right;\n",
              "    }\n",
              "</style>\n",
              "<table border=\"1\" class=\"dataframe\">\n",
              "  <thead>\n",
              "    <tr style=\"text-align: right;\">\n",
              "      <th></th>\n",
              "      <th>bluecar_counter</th>\n",
              "      <th>city</th>\n",
              "      <th>kind</th>\n",
              "      <th>rental_status</th>\n",
              "      <th>slots</th>\n",
              "      <th>status</th>\n",
              "      <th>subscription_status</th>\n",
              "      <th>date_time</th>\n",
              "      <th>date</th>\n",
              "      <th>time</th>\n",
              "    </tr>\n",
              "  </thead>\n",
              "  <tbody>\n",
              "    <tr>\n",
              "      <th>20</th>\n",
              "      <td>3</td>\n",
              "      <td>Paris</td>\n",
              "      <td>SPACE</td>\n",
              "      <td>operational</td>\n",
              "      <td>0</td>\n",
              "      <td>ok</td>\n",
              "      <td>operational</td>\n",
              "      <td>2018-04-05 06:16:00</td>\n",
              "      <td>2018-04-05</td>\n",
              "      <td>06:16:00</td>\n",
              "    </tr>\n",
              "    <tr>\n",
              "      <th>79</th>\n",
              "      <td>0</td>\n",
              "      <td>Paris</td>\n",
              "      <td>SPACE</td>\n",
              "      <td>operational</td>\n",
              "      <td>4</td>\n",
              "      <td>ok</td>\n",
              "      <td>operational</td>\n",
              "      <td>2018-04-02 03:38:00</td>\n",
              "      <td>2018-04-02</td>\n",
              "      <td>03:38:00</td>\n",
              "    </tr>\n",
              "    <tr>\n",
              "      <th>85</th>\n",
              "      <td>0</td>\n",
              "      <td>Paris</td>\n",
              "      <td>SPACE</td>\n",
              "      <td>operational</td>\n",
              "      <td>4</td>\n",
              "      <td>ok</td>\n",
              "      <td>operational</td>\n",
              "      <td>2018-04-01 07:55:00</td>\n",
              "      <td>2018-04-01</td>\n",
              "      <td>07:55:00</td>\n",
              "    </tr>\n",
              "  </tbody>\n",
              "</table>\n",
              "</div>"
            ],
            "text/plain": [
              "    bluecar_counter   city   kind  ...           date_time       date      time\n",
              "20                3  Paris  SPACE  ... 2018-04-05 06:16:00 2018-04-05  06:16:00\n",
              "79                0  Paris  SPACE  ... 2018-04-02 03:38:00 2018-04-02  03:38:00\n",
              "85                0  Paris  SPACE  ... 2018-04-01 07:55:00 2018-04-01  07:55:00\n",
              "\n",
              "[3 rows x 10 columns]"
            ]
          },
          "metadata": {
            "tags": []
          },
          "execution_count": 20
        }
      ]
    },
    {
      "cell_type": "markdown",
      "metadata": {
        "id": "ASB11T8DtwG7",
        "colab_type": "text"
      },
      "source": [
        "# Analysis"
      ]
    },
    {
      "cell_type": "code",
      "metadata": {
        "id": "SbznKoxUrwcd",
        "colab_type": "code",
        "outputId": "43334d94-9e38-41ba-ac56-8c0da7969712",
        "colab": {
          "base_uri": "https://localhost:8080/",
          "height": 241
        }
      },
      "source": [
        "# Determining when bluecars are likely to be shared based on bluecar count in \n",
        "# stations, when bluecar count is zero:\n",
        "bluecar_not_on_station = new_autolib[new_autolib.bluecar_counter == 0]\n",
        "# previewing:\n",
        "bluecar_not_on_station[:4]"
      ],
      "execution_count": 21,
      "outputs": [
        {
          "output_type": "execute_result",
          "data": {
            "text/html": [
              "<div>\n",
              "<style scoped>\n",
              "    .dataframe tbody tr th:only-of-type {\n",
              "        vertical-align: middle;\n",
              "    }\n",
              "\n",
              "    .dataframe tbody tr th {\n",
              "        vertical-align: top;\n",
              "    }\n",
              "\n",
              "    .dataframe thead th {\n",
              "        text-align: right;\n",
              "    }\n",
              "</style>\n",
              "<table border=\"1\" class=\"dataframe\">\n",
              "  <thead>\n",
              "    <tr style=\"text-align: right;\">\n",
              "      <th></th>\n",
              "      <th>bluecar_counter</th>\n",
              "      <th>city</th>\n",
              "      <th>kind</th>\n",
              "      <th>rental_status</th>\n",
              "      <th>slots</th>\n",
              "      <th>status</th>\n",
              "      <th>subscription_status</th>\n",
              "      <th>date_time</th>\n",
              "      <th>date</th>\n",
              "      <th>time</th>\n",
              "    </tr>\n",
              "  </thead>\n",
              "  <tbody>\n",
              "    <tr>\n",
              "      <th>79</th>\n",
              "      <td>0</td>\n",
              "      <td>Paris</td>\n",
              "      <td>SPACE</td>\n",
              "      <td>operational</td>\n",
              "      <td>4</td>\n",
              "      <td>ok</td>\n",
              "      <td>operational</td>\n",
              "      <td>2018-04-02 03:38:00</td>\n",
              "      <td>2018-04-02</td>\n",
              "      <td>03:38:00</td>\n",
              "    </tr>\n",
              "    <tr>\n",
              "      <th>85</th>\n",
              "      <td>0</td>\n",
              "      <td>Paris</td>\n",
              "      <td>SPACE</td>\n",
              "      <td>operational</td>\n",
              "      <td>4</td>\n",
              "      <td>ok</td>\n",
              "      <td>operational</td>\n",
              "      <td>2018-04-01 07:55:00</td>\n",
              "      <td>2018-04-01</td>\n",
              "      <td>07:55:00</td>\n",
              "    </tr>\n",
              "    <tr>\n",
              "      <th>90</th>\n",
              "      <td>0</td>\n",
              "      <td>Paris</td>\n",
              "      <td>PARKING</td>\n",
              "      <td>operational</td>\n",
              "      <td>4</td>\n",
              "      <td>ok</td>\n",
              "      <td>operational</td>\n",
              "      <td>2018-04-06 07:09:00</td>\n",
              "      <td>2018-04-06</td>\n",
              "      <td>07:09:00</td>\n",
              "    </tr>\n",
              "    <tr>\n",
              "      <th>157</th>\n",
              "      <td>0</td>\n",
              "      <td>Paris</td>\n",
              "      <td>SPACE</td>\n",
              "      <td>operational</td>\n",
              "      <td>1</td>\n",
              "      <td>ok</td>\n",
              "      <td>operational</td>\n",
              "      <td>2018-04-08 00:38:00</td>\n",
              "      <td>2018-04-08</td>\n",
              "      <td>00:38:00</td>\n",
              "    </tr>\n",
              "  </tbody>\n",
              "</table>\n",
              "</div>"
            ],
            "text/plain": [
              "     bluecar_counter   city     kind  ...           date_time       date      time\n",
              "79                 0  Paris    SPACE  ... 2018-04-02 03:38:00 2018-04-02  03:38:00\n",
              "85                 0  Paris    SPACE  ... 2018-04-01 07:55:00 2018-04-01  07:55:00\n",
              "90                 0  Paris  PARKING  ... 2018-04-06 07:09:00 2018-04-06  07:09:00\n",
              "157                0  Paris    SPACE  ... 2018-04-08 00:38:00 2018-04-08  00:38:00\n",
              "\n",
              "[4 rows x 10 columns]"
            ]
          },
          "metadata": {
            "tags": []
          },
          "execution_count": 21
        }
      ]
    },
    {
      "cell_type": "code",
      "metadata": {
        "id": "QDJxXaIBTMA2",
        "colab_type": "code",
        "outputId": "54a8f679-6486-41af-c317-c48a03fae48c",
        "colab": {
          "base_uri": "https://localhost:8080/",
          "height": 340
        }
      },
      "source": [
        "# Creating a DatetimeIndex to be used in determining the hours when there are no bluecar on station:\n",
        "bluecar_not_on_station.set_index(bluecar_not_on_station[\"date_time\"],inplace=True)\n",
        "# Previewing:\n",
        "bluecar_not_on_station[:4]"
      ],
      "execution_count": 22,
      "outputs": [
        {
          "output_type": "execute_result",
          "data": {
            "text/html": [
              "<div>\n",
              "<style scoped>\n",
              "    .dataframe tbody tr th:only-of-type {\n",
              "        vertical-align: middle;\n",
              "    }\n",
              "\n",
              "    .dataframe tbody tr th {\n",
              "        vertical-align: top;\n",
              "    }\n",
              "\n",
              "    .dataframe thead th {\n",
              "        text-align: right;\n",
              "    }\n",
              "</style>\n",
              "<table border=\"1\" class=\"dataframe\">\n",
              "  <thead>\n",
              "    <tr style=\"text-align: right;\">\n",
              "      <th></th>\n",
              "      <th>bluecar_counter</th>\n",
              "      <th>city</th>\n",
              "      <th>kind</th>\n",
              "      <th>rental_status</th>\n",
              "      <th>slots</th>\n",
              "      <th>status</th>\n",
              "      <th>subscription_status</th>\n",
              "      <th>date_time</th>\n",
              "      <th>date</th>\n",
              "      <th>time</th>\n",
              "    </tr>\n",
              "    <tr>\n",
              "      <th>date_time</th>\n",
              "      <th></th>\n",
              "      <th></th>\n",
              "      <th></th>\n",
              "      <th></th>\n",
              "      <th></th>\n",
              "      <th></th>\n",
              "      <th></th>\n",
              "      <th></th>\n",
              "      <th></th>\n",
              "      <th></th>\n",
              "    </tr>\n",
              "  </thead>\n",
              "  <tbody>\n",
              "    <tr>\n",
              "      <th>2018-04-02 03:38:00</th>\n",
              "      <td>0</td>\n",
              "      <td>Paris</td>\n",
              "      <td>SPACE</td>\n",
              "      <td>operational</td>\n",
              "      <td>4</td>\n",
              "      <td>ok</td>\n",
              "      <td>operational</td>\n",
              "      <td>2018-04-02 03:38:00</td>\n",
              "      <td>2018-04-02</td>\n",
              "      <td>03:38:00</td>\n",
              "    </tr>\n",
              "    <tr>\n",
              "      <th>2018-04-01 07:55:00</th>\n",
              "      <td>0</td>\n",
              "      <td>Paris</td>\n",
              "      <td>SPACE</td>\n",
              "      <td>operational</td>\n",
              "      <td>4</td>\n",
              "      <td>ok</td>\n",
              "      <td>operational</td>\n",
              "      <td>2018-04-01 07:55:00</td>\n",
              "      <td>2018-04-01</td>\n",
              "      <td>07:55:00</td>\n",
              "    </tr>\n",
              "    <tr>\n",
              "      <th>2018-04-06 07:09:00</th>\n",
              "      <td>0</td>\n",
              "      <td>Paris</td>\n",
              "      <td>PARKING</td>\n",
              "      <td>operational</td>\n",
              "      <td>4</td>\n",
              "      <td>ok</td>\n",
              "      <td>operational</td>\n",
              "      <td>2018-04-06 07:09:00</td>\n",
              "      <td>2018-04-06</td>\n",
              "      <td>07:09:00</td>\n",
              "    </tr>\n",
              "    <tr>\n",
              "      <th>2018-04-08 00:38:00</th>\n",
              "      <td>0</td>\n",
              "      <td>Paris</td>\n",
              "      <td>SPACE</td>\n",
              "      <td>operational</td>\n",
              "      <td>1</td>\n",
              "      <td>ok</td>\n",
              "      <td>operational</td>\n",
              "      <td>2018-04-08 00:38:00</td>\n",
              "      <td>2018-04-08</td>\n",
              "      <td>00:38:00</td>\n",
              "    </tr>\n",
              "  </tbody>\n",
              "</table>\n",
              "</div>"
            ],
            "text/plain": [
              "                     bluecar_counter   city  ...       date      time\n",
              "date_time                                    ...                     \n",
              "2018-04-02 03:38:00                0  Paris  ... 2018-04-02  03:38:00\n",
              "2018-04-01 07:55:00                0  Paris  ... 2018-04-01  07:55:00\n",
              "2018-04-06 07:09:00                0  Paris  ... 2018-04-06  07:09:00\n",
              "2018-04-08 00:38:00                0  Paris  ... 2018-04-08  00:38:00\n",
              "\n",
              "[4 rows x 10 columns]"
            ]
          },
          "metadata": {
            "tags": []
          },
          "execution_count": 22
        }
      ]
    },
    {
      "cell_type": "code",
      "metadata": {
        "id": "_6ANR1LJiKGV",
        "colab_type": "code",
        "outputId": "b6eaa0fe-6dd4-4a3f-cbd3-84e86750e3e8",
        "colab": {
          "base_uri": "https://localhost:8080/",
          "height": 238
        }
      },
      "source": [
        "# Determining the number of counts when there is no bluecar on station based on hours:\n",
        "bluecar_not_on_station['bluecar_counter'].resample('H').count().sort_values(ascending = False)"
      ],
      "execution_count": 23,
      "outputs": [
        {
          "output_type": "execute_result",
          "data": {
            "text/plain": [
              "date_time\n",
              "2018-04-01 06:00:00    2\n",
              "2018-04-07 02:00:00    2\n",
              "2018-04-06 07:00:00    2\n",
              "2018-04-09 20:00:00    1\n",
              "2018-04-05 05:00:00    1\n",
              "                      ..\n",
              "2018-04-06 01:00:00    0\n",
              "2018-04-06 00:00:00    0\n",
              "2018-04-05 23:00:00    0\n",
              "2018-04-05 22:00:00    0\n",
              "2018-04-05 12:00:00    0\n",
              "Name: bluecar_counter, Length: 208, dtype: int64"
            ]
          },
          "metadata": {
            "tags": []
          },
          "execution_count": 23
        }
      ]
    }
  ]
}